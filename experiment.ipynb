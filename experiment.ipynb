{
 "cells": [
  {
   "cell_type": "markdown",
   "id": "3bdbefed",
   "metadata": {},
   "source": [
    "# Logic gate classifier"
   ]
  },
  {
   "cell_type": "code",
   "execution_count": 1,
   "id": "778d53e0",
   "metadata": {},
   "outputs": [],
   "source": [
    "import pandas as pd\n",
    "import numpy as np\n",
    "import random\n",
    "from sklearn.model_selection import train_test_split\n",
    "\n",
    "# our files\n",
    "from utils import generate_data\n",
    "from binary_logic_gate_classifier import BinaryLogicGateClassifier"
   ]
  },
  {
   "cell_type": "code",
   "execution_count": 2,
   "id": "e0dbaafe",
   "metadata": {},
   "outputs": [],
   "source": [
    "data = generate_data(10)"
   ]
  },
  {
   "cell_type": "code",
   "execution_count": 3,
   "id": "301ab994",
   "metadata": {},
   "outputs": [
    {
     "data": {
      "text/html": [
       "<div>\n",
       "<style scoped>\n",
       "    .dataframe tbody tr th:only-of-type {\n",
       "        vertical-align: middle;\n",
       "    }\n",
       "\n",
       "    .dataframe tbody tr th {\n",
       "        vertical-align: top;\n",
       "    }\n",
       "\n",
       "    .dataframe thead th {\n",
       "        text-align: right;\n",
       "    }\n",
       "</style>\n",
       "<table border=\"1\" class=\"dataframe\">\n",
       "  <thead>\n",
       "    <tr style=\"text-align: right;\">\n",
       "      <th></th>\n",
       "      <th>data 1</th>\n",
       "      <th>data 2</th>\n",
       "      <th>data 3</th>\n",
       "      <th>data 4</th>\n",
       "      <th>result</th>\n",
       "    </tr>\n",
       "  </thead>\n",
       "  <tbody>\n",
       "    <tr>\n",
       "      <th>0</th>\n",
       "      <td>1</td>\n",
       "      <td>2</td>\n",
       "      <td>9</td>\n",
       "      <td>3</td>\n",
       "      <td>3</td>\n",
       "    </tr>\n",
       "    <tr>\n",
       "      <th>1</th>\n",
       "      <td>6</td>\n",
       "      <td>3</td>\n",
       "      <td>5</td>\n",
       "      <td>7</td>\n",
       "      <td>9</td>\n",
       "    </tr>\n",
       "    <tr>\n",
       "      <th>2</th>\n",
       "      <td>8</td>\n",
       "      <td>9</td>\n",
       "      <td>4</td>\n",
       "      <td>8</td>\n",
       "      <td>7</td>\n",
       "    </tr>\n",
       "    <tr>\n",
       "      <th>3</th>\n",
       "      <td>8</td>\n",
       "      <td>4</td>\n",
       "      <td>5</td>\n",
       "      <td>5</td>\n",
       "      <td>9</td>\n",
       "    </tr>\n",
       "    <tr>\n",
       "      <th>4</th>\n",
       "      <td>0</td>\n",
       "      <td>1</td>\n",
       "      <td>9</td>\n",
       "      <td>8</td>\n",
       "      <td>2</td>\n",
       "    </tr>\n",
       "  </tbody>\n",
       "</table>\n",
       "</div>"
      ],
      "text/plain": [
       "   data 1  data 2  data 3  data 4  result\n",
       "0       1       2       9       3       3\n",
       "1       6       3       5       7       9\n",
       "2       8       9       4       8       7\n",
       "3       8       4       5       5       9\n",
       "4       0       1       9       8       2"
      ]
     },
     "execution_count": 3,
     "metadata": {},
     "output_type": "execute_result"
    }
   ],
   "source": [
    "data.head(5)"
   ]
  },
  {
   "cell_type": "code",
   "execution_count": 4,
   "id": "42e62b4b",
   "metadata": {},
   "outputs": [],
   "source": [
    "data = data.applymap(bin)"
   ]
  },
  {
   "cell_type": "code",
   "execution_count": 5,
   "id": "2f291b34",
   "metadata": {},
   "outputs": [
    {
     "data": {
      "text/html": [
       "<div>\n",
       "<style scoped>\n",
       "    .dataframe tbody tr th:only-of-type {\n",
       "        vertical-align: middle;\n",
       "    }\n",
       "\n",
       "    .dataframe tbody tr th {\n",
       "        vertical-align: top;\n",
       "    }\n",
       "\n",
       "    .dataframe thead th {\n",
       "        text-align: right;\n",
       "    }\n",
       "</style>\n",
       "<table border=\"1\" class=\"dataframe\">\n",
       "  <thead>\n",
       "    <tr style=\"text-align: right;\">\n",
       "      <th></th>\n",
       "      <th>data 1</th>\n",
       "      <th>data 2</th>\n",
       "      <th>data 3</th>\n",
       "      <th>data 4</th>\n",
       "      <th>result</th>\n",
       "    </tr>\n",
       "  </thead>\n",
       "  <tbody>\n",
       "    <tr>\n",
       "      <th>0</th>\n",
       "      <td>0b1</td>\n",
       "      <td>0b10</td>\n",
       "      <td>0b1001</td>\n",
       "      <td>0b11</td>\n",
       "      <td>0b11</td>\n",
       "    </tr>\n",
       "    <tr>\n",
       "      <th>1</th>\n",
       "      <td>0b110</td>\n",
       "      <td>0b11</td>\n",
       "      <td>0b101</td>\n",
       "      <td>0b111</td>\n",
       "      <td>0b1001</td>\n",
       "    </tr>\n",
       "    <tr>\n",
       "      <th>2</th>\n",
       "      <td>0b1000</td>\n",
       "      <td>0b1001</td>\n",
       "      <td>0b100</td>\n",
       "      <td>0b1000</td>\n",
       "      <td>0b111</td>\n",
       "    </tr>\n",
       "    <tr>\n",
       "      <th>3</th>\n",
       "      <td>0b1000</td>\n",
       "      <td>0b100</td>\n",
       "      <td>0b101</td>\n",
       "      <td>0b101</td>\n",
       "      <td>0b1001</td>\n",
       "    </tr>\n",
       "    <tr>\n",
       "      <th>4</th>\n",
       "      <td>0b0</td>\n",
       "      <td>0b1</td>\n",
       "      <td>0b1001</td>\n",
       "      <td>0b1000</td>\n",
       "      <td>0b10</td>\n",
       "    </tr>\n",
       "    <tr>\n",
       "      <th>5</th>\n",
       "      <td>0b11</td>\n",
       "      <td>0b1001</td>\n",
       "      <td>0b101</td>\n",
       "      <td>0b111</td>\n",
       "      <td>0b10</td>\n",
       "    </tr>\n",
       "    <tr>\n",
       "      <th>6</th>\n",
       "      <td>0b100</td>\n",
       "      <td>0b110</td>\n",
       "      <td>0b100</td>\n",
       "      <td>0b100</td>\n",
       "      <td>0b100</td>\n",
       "    </tr>\n",
       "    <tr>\n",
       "      <th>7</th>\n",
       "      <td>0b111</td>\n",
       "      <td>0b101</td>\n",
       "      <td>0b1</td>\n",
       "      <td>0b1</td>\n",
       "      <td>0b101</td>\n",
       "    </tr>\n",
       "    <tr>\n",
       "      <th>8</th>\n",
       "      <td>0b0</td>\n",
       "      <td>0b10</td>\n",
       "      <td>0b10</td>\n",
       "      <td>0b101</td>\n",
       "      <td>0b11</td>\n",
       "    </tr>\n",
       "    <tr>\n",
       "      <th>9</th>\n",
       "      <td>0b110</td>\n",
       "      <td>0b100</td>\n",
       "      <td>0b110</td>\n",
       "      <td>0b10</td>\n",
       "      <td>0b1001</td>\n",
       "    </tr>\n",
       "  </tbody>\n",
       "</table>\n",
       "</div>"
      ],
      "text/plain": [
       "   data 1  data 2  data 3  data 4  result\n",
       "0     0b1    0b10  0b1001    0b11    0b11\n",
       "1   0b110    0b11   0b101   0b111  0b1001\n",
       "2  0b1000  0b1001   0b100  0b1000   0b111\n",
       "3  0b1000   0b100   0b101   0b101  0b1001\n",
       "4     0b0     0b1  0b1001  0b1000    0b10\n",
       "5    0b11  0b1001   0b101   0b111    0b10\n",
       "6   0b100   0b110   0b100   0b100   0b100\n",
       "7   0b111   0b101     0b1     0b1   0b101\n",
       "8     0b0    0b10    0b10   0b101    0b11\n",
       "9   0b110   0b100   0b110    0b10  0b1001"
      ]
     },
     "execution_count": 5,
     "metadata": {},
     "output_type": "execute_result"
    }
   ],
   "source": [
    "data"
   ]
  },
  {
   "cell_type": "code",
   "execution_count": 6,
   "id": "74b49853",
   "metadata": {},
   "outputs": [
    {
     "name": "stdout",
     "output_type": "stream",
     "text": [
      "['data 1', 'data 2', 'data 3', 'data 4']\n"
     ]
    }
   ],
   "source": [
    "feature_cols = []\n",
    "for feature in range(4):\n",
    "    feature_cols.append(f\"data {feature + 1}\")\n",
    "print(feature_cols)"
   ]
  },
  {
   "cell_type": "code",
   "execution_count": 7,
   "id": "27e0cb87",
   "metadata": {},
   "outputs": [],
   "source": [
    "X = data[feature_cols]\n",
    "y = data['result']\n",
    "\n",
    "X_train, y_train, X_test, y_test = train_test_split(X, y, random_state=42, test_size=0.30, shuffle=True)"
   ]
  },
  {
   "cell_type": "code",
   "execution_count": 8,
   "id": "76bc18a5",
   "metadata": {},
   "outputs": [
    {
     "data": {
      "text/html": [
       "<div>\n",
       "<style scoped>\n",
       "    .dataframe tbody tr th:only-of-type {\n",
       "        vertical-align: middle;\n",
       "    }\n",
       "\n",
       "    .dataframe tbody tr th {\n",
       "        vertical-align: top;\n",
       "    }\n",
       "\n",
       "    .dataframe thead th {\n",
       "        text-align: right;\n",
       "    }\n",
       "</style>\n",
       "<table border=\"1\" class=\"dataframe\">\n",
       "  <thead>\n",
       "    <tr style=\"text-align: right;\">\n",
       "      <th></th>\n",
       "      <th>data 1</th>\n",
       "      <th>data 2</th>\n",
       "      <th>data 3</th>\n",
       "      <th>data 4</th>\n",
       "    </tr>\n",
       "  </thead>\n",
       "  <tbody>\n",
       "    <tr>\n",
       "      <th>0</th>\n",
       "      <td>0b1</td>\n",
       "      <td>0b10</td>\n",
       "      <td>0b1001</td>\n",
       "      <td>0b11</td>\n",
       "    </tr>\n",
       "    <tr>\n",
       "      <th>7</th>\n",
       "      <td>0b111</td>\n",
       "      <td>0b101</td>\n",
       "      <td>0b1</td>\n",
       "      <td>0b1</td>\n",
       "    </tr>\n",
       "    <tr>\n",
       "      <th>2</th>\n",
       "      <td>0b1000</td>\n",
       "      <td>0b1001</td>\n",
       "      <td>0b100</td>\n",
       "      <td>0b1000</td>\n",
       "    </tr>\n",
       "    <tr>\n",
       "      <th>9</th>\n",
       "      <td>0b110</td>\n",
       "      <td>0b100</td>\n",
       "      <td>0b110</td>\n",
       "      <td>0b10</td>\n",
       "    </tr>\n",
       "    <tr>\n",
       "      <th>4</th>\n",
       "      <td>0b0</td>\n",
       "      <td>0b1</td>\n",
       "      <td>0b1001</td>\n",
       "      <td>0b1000</td>\n",
       "    </tr>\n",
       "    <tr>\n",
       "      <th>3</th>\n",
       "      <td>0b1000</td>\n",
       "      <td>0b100</td>\n",
       "      <td>0b101</td>\n",
       "      <td>0b101</td>\n",
       "    </tr>\n",
       "    <tr>\n",
       "      <th>6</th>\n",
       "      <td>0b100</td>\n",
       "      <td>0b110</td>\n",
       "      <td>0b100</td>\n",
       "      <td>0b100</td>\n",
       "    </tr>\n",
       "  </tbody>\n",
       "</table>\n",
       "</div>"
      ],
      "text/plain": [
       "   data 1  data 2  data 3  data 4\n",
       "0     0b1    0b10  0b1001    0b11\n",
       "7   0b111   0b101     0b1     0b1\n",
       "2  0b1000  0b1001   0b100  0b1000\n",
       "9   0b110   0b100   0b110    0b10\n",
       "4     0b0     0b1  0b1001  0b1000\n",
       "3  0b1000   0b100   0b101   0b101\n",
       "6   0b100   0b110   0b100   0b100"
      ]
     },
     "execution_count": 8,
     "metadata": {},
     "output_type": "execute_result"
    }
   ],
   "source": [
    "X_train"
   ]
  },
  {
   "cell_type": "code",
   "execution_count": 9,
   "id": "1f875fd1",
   "metadata": {},
   "outputs": [
    {
     "data": {
      "text/plain": [
       "0      0b11\n",
       "7     0b101\n",
       "2     0b111\n",
       "9    0b1001\n",
       "4      0b10\n",
       "3    0b1001\n",
       "6     0b100\n",
       "Name: result, dtype: object"
      ]
     },
     "execution_count": 9,
     "metadata": {},
     "output_type": "execute_result"
    }
   ],
   "source": [
    "X_test"
   ]
  }
 ],
 "metadata": {
  "kernelspec": {
   "display_name": "Python 3.8.10",
   "language": "python",
   "name": "python3"
  },
  "language_info": {
   "codemirror_mode": {
    "name": "ipython",
    "version": 3
   },
   "file_extension": ".py",
   "mimetype": "text/x-python",
   "name": "python",
   "nbconvert_exporter": "python",
   "pygments_lexer": "ipython3",
   "version": "3.8.10"
  },
  "vscode": {
   "interpreter": {
    "hash": "75c306b23597597072656ba1c337e5164d6a7e38417424e0880e7ecaf57ec34a"
   }
  }
 },
 "nbformat": 4,
 "nbformat_minor": 5
}
